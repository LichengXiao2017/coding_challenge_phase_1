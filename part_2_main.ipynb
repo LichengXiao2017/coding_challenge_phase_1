{
 "cells": [
  {
   "cell_type": "code",
   "execution_count": null,
   "metadata": {},
   "outputs": [],
   "source": [
    "from part_1 import *\n",
    "from part_1_verify import *\n",
    "from part_2 import *\n",
    "\n",
    "masker = Masker()\n",
    "model = TrainModel(masker)\n",
    "model.prepare_batch()\n",
    "model.build_model()\n",
    "model.train_model()\n",
    "model.evaluate_model()\n",
    "model.draw_prediction()"
   ]
  }
 ],
 "metadata": {
  "kernelspec": {
   "display_name": "Python 2",
   "language": "python",
   "name": "python2"
  },
  "language_info": {
   "codemirror_mode": {
    "name": "ipython",
    "version": 2
   },
   "file_extension": ".py",
   "mimetype": "text/x-python",
   "name": "python",
   "nbconvert_exporter": "python",
   "pygments_lexer": "ipython2",
   "version": "2.7.14"
  }
 },
 "nbformat": 4,
 "nbformat_minor": 2
}
